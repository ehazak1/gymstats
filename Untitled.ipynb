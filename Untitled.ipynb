{
 "cells": [
  {
   "cell_type": "code",
   "execution_count": 3,
   "metadata": {},
   "outputs": [
    {
     "name": "stdout",
     "output_type": "stream",
     "text": [
      "Reading data for week:  2019-07-15\n",
      "Sunday 8am Weightlifting Class len: 30\n",
      "found no match\n",
      "CrossFit Open Gym - Unlimited members only (10/35) len: 50\n",
      "found no match\n"
     ]
    },
    {
     "ename": "IndexError",
     "evalue": "no such group",
     "output_type": "error",
     "traceback": [
      "\u001b[0;31m---------------------------------------------------------------------------\u001b[0m",
      "\u001b[0;31mIndexError\u001b[0m                                Traceback (most recent call last)",
      "\u001b[0;32m<ipython-input-3-7372e67455d1>\u001b[0m in \u001b[0;36m<module>\u001b[0;34m\u001b[0m\n\u001b[1;32m     87\u001b[0m \u001b[0;34m\u001b[0m\u001b[0m\n\u001b[1;32m     88\u001b[0m \u001b[0;32mif\u001b[0m \u001b[0m__name__\u001b[0m \u001b[0;34m==\u001b[0m \u001b[0;34m'__main__'\u001b[0m\u001b[0;34m:\u001b[0m\u001b[0;34m\u001b[0m\u001b[0;34m\u001b[0m\u001b[0m\n\u001b[0;32m---> 89\u001b[0;31m     \u001b[0mmain\u001b[0m\u001b[0;34m(\u001b[0m\u001b[0;34m)\u001b[0m\u001b[0;34m\u001b[0m\u001b[0;34m\u001b[0m\u001b[0m\n\u001b[0m",
      "\u001b[0;32m<ipython-input-3-7372e67455d1>\u001b[0m in \u001b[0;36mmain\u001b[0;34m()\u001b[0m\n\u001b[1;32m     80\u001b[0m         \u001b[0mprint\u001b[0m\u001b[0;34m(\u001b[0m\u001b[0;34m'Reading data for week: '\u001b[0m\u001b[0;34m,\u001b[0m \u001b[0mweek\u001b[0m\u001b[0;34m)\u001b[0m\u001b[0;34m\u001b[0m\u001b[0;34m\u001b[0m\u001b[0m\n\u001b[1;32m     81\u001b[0m         \u001b[0murl\u001b[0m \u001b[0;34m=\u001b[0m \u001b[0;34m'https://crossfitjohnscreek.sites.zenplanner.com/calendar.cfm?DATE={}&VIEW=list'\u001b[0m\u001b[0;34m.\u001b[0m\u001b[0mformat\u001b[0m\u001b[0;34m(\u001b[0m\u001b[0mweek\u001b[0m\u001b[0;34m)\u001b[0m\u001b[0;34m\u001b[0m\u001b[0;34m\u001b[0m\u001b[0m\n\u001b[0;32m---> 82\u001b[0;31m         \u001b[0myearly_attendance\u001b[0m \u001b[0;34m+=\u001b[0m \u001b[0mscrape_weekly_sched\u001b[0m\u001b[0;34m(\u001b[0m\u001b[0murl\u001b[0m\u001b[0;34m)\u001b[0m\u001b[0;34m\u001b[0m\u001b[0;34m\u001b[0m\u001b[0m\n\u001b[0m\u001b[1;32m     83\u001b[0m \u001b[0;34m\u001b[0m\u001b[0m\n\u001b[1;32m     84\u001b[0m     \u001b[0;32mwith\u001b[0m \u001b[0mopen\u001b[0m\u001b[0;34m(\u001b[0m\u001b[0;34m'yearly_attendance.txt'\u001b[0m\u001b[0;34m,\u001b[0m \u001b[0;34m'w'\u001b[0m\u001b[0;34m)\u001b[0m \u001b[0;32mas\u001b[0m \u001b[0mf\u001b[0m\u001b[0;34m:\u001b[0m\u001b[0;34m\u001b[0m\u001b[0;34m\u001b[0m\u001b[0m\n",
      "\u001b[0;32m<ipython-input-3-7372e67455d1>\u001b[0m in \u001b[0;36mscrape_weekly_sched\u001b[0;34m(url)\u001b[0m\n\u001b[1;32m     50\u001b[0m                         \u001b[0mcell_data\u001b[0m\u001b[0;34m[\u001b[0m\u001b[0;34m'session'\u001b[0m\u001b[0;34m]\u001b[0m \u001b[0;34m=\u001b[0m \u001b[0mregex_match\u001b[0m\u001b[0;34m.\u001b[0m\u001b[0mgroup\u001b[0m\u001b[0;34m(\u001b[0m\u001b[0;36m1\u001b[0m\u001b[0;34m)\u001b[0m\u001b[0;34m\u001b[0m\u001b[0;34m\u001b[0m\u001b[0m\n\u001b[1;32m     51\u001b[0m                         \u001b[0;32mif\u001b[0m \u001b[0mcell_data\u001b[0m\u001b[0;34m[\u001b[0m\u001b[0;34m'session'\u001b[0m\u001b[0;34m]\u001b[0m \u001b[0;32mnot\u001b[0m \u001b[0;32min\u001b[0m \u001b[0mno_attendance_list\u001b[0m\u001b[0;34m:\u001b[0m\u001b[0;34m\u001b[0m\u001b[0;34m\u001b[0m\u001b[0m\n\u001b[0;32m---> 52\u001b[0;31m                             \u001b[0mcell_data\u001b[0m\u001b[0;34m[\u001b[0m\u001b[0;34m'attendance'\u001b[0m\u001b[0;34m]\u001b[0m \u001b[0;34m=\u001b[0m \u001b[0mint\u001b[0m\u001b[0;34m(\u001b[0m\u001b[0mregex_match\u001b[0m\u001b[0;34m.\u001b[0m\u001b[0mgroup\u001b[0m\u001b[0;34m(\u001b[0m\u001b[0;36m2\u001b[0m\u001b[0;34m)\u001b[0m\u001b[0;34m)\u001b[0m\u001b[0;34m\u001b[0m\u001b[0;34m\u001b[0m\u001b[0m\n\u001b[0m\u001b[1;32m     53\u001b[0m                         \u001b[0;32melse\u001b[0m\u001b[0;34m:\u001b[0m\u001b[0;34m\u001b[0m\u001b[0;34m\u001b[0m\u001b[0m\n\u001b[1;32m     54\u001b[0m                             \u001b[0mcell_data\u001b[0m\u001b[0;34m[\u001b[0m\u001b[0;34m'attendance'\u001b[0m\u001b[0;34m]\u001b[0m \u001b[0;34m=\u001b[0m \u001b[0;36m0\u001b[0m\u001b[0;34m\u001b[0m\u001b[0;34m\u001b[0m\u001b[0m\n",
      "\u001b[0;31mIndexError\u001b[0m: no such group"
     ]
    }
   ],
   "source": [
    "import requests\n",
    "import urllib.request\n",
    "import time\n",
    "from bs4 import BeautifulSoup\n",
    "import re\n",
    "\n",
    "\n",
    "def scrape_weekly_sched(url):\n",
    "\n",
    "    response = requests.get(url)\n",
    "\n",
    "    if response.status_code != 200:\n",
    "        print(\"page read failed...\")\n",
    "        exit(2)\n",
    "\n",
    "    soup = BeautifulSoup(response.text, \"html.parser\")\n",
    "\n",
    "    week_sched = soup.findAll('table')[2]\n",
    "\n",
    "    no_attendance_list = [\n",
    "        'Sunday 8am Weightlifting Class',\n",
    "        'Session 2 - CrossFit Lions',\n",
    "        'Session 2 - CrossFit Cubs',\n",
    "        'Session 2 - CrossFit Teens',\n",
    "        'Session 1 - CrossFit Lions',\n",
    "        'Session 1 - CrossFit Cubs',\n",
    "        'Session 1 - CrossFit Teens'\n",
    "    ]\n",
    "\n",
    "    time_format = '%A, %B %d, %Y, %I:%M %p'\n",
    "    weekly_attendance = []\n",
    "    for l in week_sched.find_all('tr'):\n",
    "        if l.attrs['class'] == ['group']:\n",
    "            date_str = l.find_next('td').text\n",
    "        else:\n",
    "            i = 0\n",
    "            cell_data = {}\n",
    "            for cell in l.find_all('td'):\n",
    "                if cell.attrs['class'] == [\"label\"]:\n",
    "                    tod = cell.find_next('div').text\n",
    "                    date_str_full = date_str + \", \" + tod\n",
    "                else:\n",
    "                    if i == 1:\n",
    "                        print(cell.text, \"len:\", len(cell.text))\n",
    "                        regex_match = re.match(r'(.*)\\((\\d+)', cell.text)\n",
    "                        if not cell_data:\n",
    "                            regex_match = re.match('(.*)', cell.text)\n",
    "                            print(\"found no match\")\n",
    "                            exit(2)\n",
    "                        cell_data['session'] = regex_match.group(1)\n",
    "                        if cell_data['session'] not in no_attendance_list:\n",
    "                            cell_data['attendance'] = int(regex_match.group(2))\n",
    "                        else:\n",
    "                            cell_data['attendance'] = 0\n",
    "                    elif i == 2:\n",
    "                        cell_data['coach'] = cell.text\n",
    "                i+=1\n",
    "            ts = int(time.mktime(time.strptime(date_str_full, time_format)))\n",
    "            cell_data['time_stamp'] = ts\n",
    "            weekly_attendance.append(cell_data)\n",
    "    return weekly_attendance\n",
    "\n",
    "\n",
    "def create_week_list(start_week_date):\n",
    "    weeks_list = []\n",
    "    time_format = '%Y-%m-%d'\n",
    "    start_date_ts = int(time.mktime(time.strptime(start_week_date, time_format)))\n",
    "    seconds_in_week = 60*60*24*7\n",
    "    for i in range(0, 52, 1):\n",
    "        week_ts = start_date_ts - seconds_in_week*i\n",
    "        weeks_list.append(time.strftime(time_format, time.localtime(week_ts)))\n",
    "    \n",
    "    return weeks_list\n",
    "\n",
    "\n",
    "def main():\n",
    "    weeks_list = create_week_list('2019-07-15')\n",
    "    yearly_attendance = []\n",
    "    for week in weeks_list:\n",
    "        print('Reading data for week: ', week)\n",
    "        url = 'https://crossfitjohnscreek.sites.zenplanner.com/calendar.cfm?DATE={}&VIEW=list'.format(week)\n",
    "        yearly_attendance += scrape_weekly_sched(url)\n",
    "    \n",
    "    with open('yearly_attendance.txt', 'w') as f:\n",
    "        f.write(yearly_attendance)\n",
    "\n",
    "\n",
    "if __name__ == '__main__':\n",
    "    main()"
   ]
  },
  {
   "cell_type": "code",
   "execution_count": 4,
   "metadata": {},
   "outputs": [
    {
     "data": {
      "text/plain": [
       "30"
      ]
     },
     "execution_count": 4,
     "metadata": {},
     "output_type": "execute_result"
    }
   ],
   "source": [
    "len(\"Sunday 8am Weightlifting Class\")"
   ]
  },
  {
   "cell_type": "code",
   "execution_count": 6,
   "metadata": {},
   "outputs": [],
   "source": [
    "import json\n",
    "with open('yearly_attendance.json') as f:\n",
    "    jobject = json.load(f)"
   ]
  },
  {
   "cell_type": "code",
   "execution_count": 8,
   "metadata": {},
   "outputs": [],
   "source": [
    "with open('yearly_attendance_pretty.json', 'w') as f:\n",
    "    json.dump(jobject, f, indent=4, separators=(',', ': '), sort_keys=True)\n",
    "    f.write('\\n')"
   ]
  },
  {
   "cell_type": "code",
   "execution_count": 9,
   "metadata": {},
   "outputs": [
    {
     "ename": "NameError",
     "evalue": "name 'gmtime' is not defined",
     "output_type": "error",
     "traceback": [
      "\u001b[0;31m---------------------------------------------------------------------------\u001b[0m",
      "\u001b[0;31mNameError\u001b[0m                                 Traceback (most recent call last)",
      "\u001b[0;32m<ipython-input-9-6b87120e39ce>\u001b[0m in \u001b[0;36m<module>\u001b[0;34m\u001b[0m\n\u001b[0;32m----> 1\u001b[0;31m \u001b[0mgmtime\u001b[0m\u001b[0;34m(\u001b[0m\u001b[0;36m1561896000\u001b[0m\u001b[0;34m)\u001b[0m\u001b[0;34m\u001b[0m\u001b[0;34m\u001b[0m\u001b[0m\n\u001b[0m",
      "\u001b[0;31mNameError\u001b[0m: name 'gmtime' is not defined"
     ]
    }
   ],
   "source": [
    "gmtime(1561896000)"
   ]
  },
  {
   "cell_type": "code",
   "execution_count": 13,
   "metadata": {},
   "outputs": [
    {
     "data": {
      "text/plain": [
       "'2019-06-30'"
      ]
     },
     "execution_count": 13,
     "metadata": {},
     "output_type": "execute_result"
    }
   ],
   "source": [
    "time.strftime('%Y-%m-%d', time.gmtime(1561896000))"
   ]
  },
  {
   "cell_type": "code",
   "execution_count": 14,
   "metadata": {},
   "outputs": [
    {
     "data": {
      "text/plain": [
       "time.struct_time(tm_year=2019, tm_mon=6, tm_mday=30, tm_hour=8, tm_min=0, tm_sec=0, tm_wday=6, tm_yday=181, tm_isdst=1)"
      ]
     },
     "execution_count": 14,
     "metadata": {},
     "output_type": "execute_result"
    }
   ],
   "source": [
    "time.localtime(1561896000)"
   ]
  },
  {
   "cell_type": "code",
   "execution_count": null,
   "metadata": {},
   "outputs": [],
   "source": []
  }
 ],
 "metadata": {
  "kernelspec": {
   "display_name": "gymstats-ouN-z3NR",
   "language": "python",
   "name": "gymstats-oun-z3nr"
  },
  "language_info": {
   "codemirror_mode": {
    "name": "ipython",
    "version": 3
   },
   "file_extension": ".py",
   "mimetype": "text/x-python",
   "name": "python",
   "nbconvert_exporter": "python",
   "pygments_lexer": "ipython3",
   "version": "3.7.3"
  }
 },
 "nbformat": 4,
 "nbformat_minor": 2
}
